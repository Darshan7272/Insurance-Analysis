{
 "cells": [
  {
   "cell_type": "code",
   "execution_count": 4,
   "metadata": {},
   "outputs": [],
   "source": [
    "import numpy as np\n",
    "import pandas as pd\n",
    "import datetime as dt\n",
    "import matplotlib.pyplot as plt\n",
    "import seaborn as sns\n",
    "from datetime import datetime"
   ]
  },
  {
   "cell_type": "markdown",
   "metadata": {},
   "source": [
    "1. Import claims_data.csv and cust_data.csv which is provided to you and \n",
    "combine the two datasets appropriately to create a 360-degree view of \n",
    "the data. Use the same for the subsequent questions.\n"
   ]
  },
  {
   "cell_type": "code",
   "execution_count": 5,
   "metadata": {},
   "outputs": [],
   "source": [
    "claims=pd.read_csv(r'C:\\Users\\nagar\\Documents\\python files\\project\\Case Study 3 - Insurance Claims Case Study\\claims.csv')\n",
    "cusdemo=pd.read_csv(r'C:\\Users\\nagar\\Documents\\python files\\project\\Case Study 3 - Insurance Claims Case Study\\cust_demographics.csv')"
   ]
  },
  {
   "cell_type": "code",
   "execution_count": 6,
   "metadata": {},
   "outputs": [],
   "source": [
    "cust=pd.merge(cusdemo,claims,how='left',left_on='CUST_ID',right_on='customer_id')"
   ]
  },
  {
   "cell_type": "markdown",
   "metadata": {},
   "source": [
    "-2. Perform a data audit for the datatypes and find out if there are any \n",
    "mismatch within the current datatypes of the columns and their \n",
    "business significance."
   ]
  },
  {
   "cell_type": "code",
   "execution_count": 7,
   "metadata": {},
   "outputs": [],
   "source": [
    "\n",
    "cust['Contact']=cust['Contact'].str.replace('-','')\n",
    "cust=cust.astype({\n",
    "    'DateOfBirth':'datetime64[ns]',\n",
    "    'Contact':'str',\n",
    "    'claim_id':'str',\n",
    "    'customer_id':'str',\n",
    "    'claim_date':'datetime64[ns]'\n",
    "})"
   ]
  },
  {
   "cell_type": "markdown",
   "metadata": {},
   "source": [
    "-3. Convert the column claim_amount to numeric. Use the appropriate \n",
    "modules/attributes to remove the $ sign."
   ]
  },
  {
   "cell_type": "code",
   "execution_count": 8,
   "metadata": {},
   "outputs": [],
   "source": [
    "cust['claim_amount']=cust['claim_amount'].str.replace('$','').astype('float')"
   ]
  },
  {
   "cell_type": "markdown",
   "metadata": {},
   "source": [
    "-4. Of all the injury claims, some of them have gone unreported with the \n",
    "police. Create an alert flag (1,0) for all such claims."
   ]
  },
  {
   "cell_type": "code",
   "execution_count": 9,
   "metadata": {},
   "outputs": [],
   "source": [
    "cust['flag']=cust.loc[cust['claim_type']=='Injury only','police_report'].apply(lambda x:1 if x=='No' else 0)"
   ]
  },
  {
   "cell_type": "code",
   "execution_count": 10,
   "metadata": {},
   "outputs": [],
   "source": [
    "cust.flag=cust.flag.fillna(0)"
   ]
  },
  {
   "cell_type": "markdown",
   "metadata": {},
   "source": [
    "-5. One customer can claim for insurance more than once and in each claim,\n",
    "multiple categories of claims can be involved. However, customer ID \n",
    "should remain unique."
   ]
  },
  {
   "cell_type": "code",
   "execution_count": 11,
   "metadata": {},
   "outputs": [
    {
     "data": {
      "text/plain": [
       "0       21868593.0\n",
       "1       75740424.0\n",
       "2       30308357.0\n",
       "4       47830476.0\n",
       "6       19269962.0\n",
       "           ...    \n",
       "1087    79539873.0\n",
       "1088    42364152.0\n",
       "1089    19888166.0\n",
       "1090    11256802.0\n",
       "1091    61575264.0\n",
       "Name: customer_id, Length: 1079, dtype: object"
      ]
     },
     "execution_count": 11,
     "metadata": {},
     "output_type": "execute_result"
    }
   ],
   "source": [
    "cust.customer_id.drop_duplicates()"
   ]
  },
  {
   "cell_type": "markdown",
   "metadata": {},
   "source": [
    "-6. Check for missing values and impute the missing values with an \n",
    "appropriate value. (mean for continuous and mode for categorical"
   ]
  },
  {
   "cell_type": "code",
   "execution_count": 12,
   "metadata": {},
   "outputs": [],
   "source": [
    "ran1=cust.select_dtypes('number')[['CUST_ID', 'claim_amount', 'total_policy_claims', 'flag']]\n",
    "for i in ran1.columns:\n",
    "    ran1[i].fillna(ran1[i].mean(),inplace=True)"
   ]
  },
  {
   "cell_type": "code",
   "execution_count": 13,
   "metadata": {},
   "outputs": [],
   "source": [
    "ran2=cust.select_dtypes(include=['object','datetime']).copy()\n",
    "for i in ran2.columns:\n",
    "    mod=ran2[i].mode()[0]\n",
    "    ran2[i].fillna(mod,inplace=True)\n",
    "    "
   ]
  },
  {
   "cell_type": "code",
   "execution_count": 14,
   "metadata": {},
   "outputs": [],
   "source": [
    "cust1=pd.concat([ran1,ran2],axis=1)"
   ]
  },
  {
   "cell_type": "markdown",
   "metadata": {},
   "source": [
    "7. Calculate the age of customers in years. Based on the age, categorize the\n",
    "customers according to the below criteria\n",
    "Children < 18\n",
    "Youth 18-30\n",
    "Adult 30-60\n",
    "Senior > 60"
   ]
  },
  {
   "cell_type": "code",
   "execution_count": 15,
   "metadata": {},
   "outputs": [],
   "source": [
    "cust['age']=cust['DateOfBirth'].apply(lambda x:pd.Timestamp.now()-x).dt.days//365"
   ]
  },
  {
   "cell_type": "code",
   "execution_count": 16,
   "metadata": {},
   "outputs": [],
   "source": [
    "def cate(age):\n",
    "    if age<18:\n",
    "        return 'children'\n",
    "    elif age<31:\n",
    "        return 'Youth'\n",
    "    elif age<61:\n",
    "        return 'Adult'\n",
    "    else:\n",
    "        return 'Senior'"
   ]
  },
  {
   "cell_type": "code",
   "execution_count": 17,
   "metadata": {},
   "outputs": [],
   "source": [
    "cust['category']=cust['age'].apply(cate)"
   ]
  },
  {
   "cell_type": "markdown",
   "metadata": {},
   "source": [
    "-8. What is the average amount claimed by the customers from various \n",
    "segments?"
   ]
  },
  {
   "cell_type": "code",
   "execution_count": 19,
   "metadata": {},
   "outputs": [
    {
     "data": {
      "text/html": [
       "<div>\n",
       "<style scoped>\n",
       "    .dataframe tbody tr th:only-of-type {\n",
       "        vertical-align: middle;\n",
       "    }\n",
       "\n",
       "    .dataframe tbody tr th {\n",
       "        vertical-align: top;\n",
       "    }\n",
       "\n",
       "    .dataframe thead th {\n",
       "        text-align: right;\n",
       "    }\n",
       "</style>\n",
       "<table border=\"1\" class=\"dataframe\">\n",
       "  <thead>\n",
       "    <tr style=\"text-align: right;\">\n",
       "      <th></th>\n",
       "      <th>Segment</th>\n",
       "      <th>claim_amount</th>\n",
       "    </tr>\n",
       "  </thead>\n",
       "  <tbody>\n",
       "    <tr>\n",
       "      <th>0</th>\n",
       "      <td>Gold</td>\n",
       "      <td>12852.189802</td>\n",
       "    </tr>\n",
       "    <tr>\n",
       "      <th>1</th>\n",
       "      <td>Platinum</td>\n",
       "      <td>12336.517291</td>\n",
       "    </tr>\n",
       "    <tr>\n",
       "      <th>2</th>\n",
       "      <td>Silver</td>\n",
       "      <td>12185.751562</td>\n",
       "    </tr>\n",
       "  </tbody>\n",
       "</table>\n",
       "</div>"
      ],
      "text/plain": [
       "    Segment  claim_amount\n",
       "0      Gold  12852.189802\n",
       "1  Platinum  12336.517291\n",
       "2    Silver  12185.751562"
      ]
     },
     "execution_count": 19,
     "metadata": {},
     "output_type": "execute_result"
    }
   ],
   "source": [
    "cust.groupby('Segment')['claim_amount'].agg('mean').reset_index()"
   ]
  },
  {
   "cell_type": "markdown",
   "metadata": {},
   "source": [
    "-9. What is the total claim amount based on incident cause for all the claims\n",
    "that have been done at least 20 days prior to 1st of October, 2018."
   ]
  },
  {
   "cell_type": "code",
   "execution_count": 16,
   "metadata": {},
   "outputs": [],
   "source": [
    "cutdate=pd.to_datetime('2018-10-01')\n",
    "offdate=cutdate-pd.DateOffset(days=20)"
   ]
  },
  {
   "cell_type": "code",
   "execution_count": 17,
   "metadata": {},
   "outputs": [
    {
     "data": {
      "text/html": [
       "<div>\n",
       "<style scoped>\n",
       "    .dataframe tbody tr th:only-of-type {\n",
       "        vertical-align: middle;\n",
       "    }\n",
       "\n",
       "    .dataframe tbody tr th {\n",
       "        vertical-align: top;\n",
       "    }\n",
       "\n",
       "    .dataframe thead th {\n",
       "        text-align: right;\n",
       "    }\n",
       "</style>\n",
       "<table border=\"1\" class=\"dataframe\">\n",
       "  <thead>\n",
       "    <tr style=\"text-align: right;\">\n",
       "      <th></th>\n",
       "      <th>incident_cause</th>\n",
       "      <th>claim_amount</th>\n",
       "    </tr>\n",
       "  </thead>\n",
       "  <tbody>\n",
       "    <tr>\n",
       "      <th>0</th>\n",
       "      <td>Crime</td>\n",
       "      <td>34790.0</td>\n",
       "    </tr>\n",
       "    <tr>\n",
       "      <th>1</th>\n",
       "      <td>Driver error</td>\n",
       "      <td>228080.0</td>\n",
       "    </tr>\n",
       "    <tr>\n",
       "      <th>2</th>\n",
       "      <td>Natural causes</td>\n",
       "      <td>59584.5</td>\n",
       "    </tr>\n",
       "    <tr>\n",
       "      <th>3</th>\n",
       "      <td>Other causes</td>\n",
       "      <td>487276.0</td>\n",
       "    </tr>\n",
       "    <tr>\n",
       "      <th>4</th>\n",
       "      <td>Other driver error</td>\n",
       "      <td>228154.0</td>\n",
       "    </tr>\n",
       "  </tbody>\n",
       "</table>\n",
       "</div>"
      ],
      "text/plain": [
       "       incident_cause  claim_amount\n",
       "0               Crime       34790.0\n",
       "1        Driver error      228080.0\n",
       "2      Natural causes       59584.5\n",
       "3        Other causes      487276.0\n",
       "4  Other driver error      228154.0"
      ]
     },
     "execution_count": 17,
     "metadata": {},
     "output_type": "execute_result"
    }
   ],
   "source": [
    "fine1=cust[cust['claim_date']>offdate]\n",
    "fine1.groupby('incident_cause')['claim_amount'].sum().round(2).reset_index()"
   ]
  },
  {
   "cell_type": "markdown",
   "metadata": {},
   "source": [
    "-10. How many adults from TX, DE and AK claimed insurance for driver \n",
    "related issues and causes?"
   ]
  },
  {
   "cell_type": "code",
   "execution_count": 18,
   "metadata": {},
   "outputs": [
    {
     "name": "stdout",
     "output_type": "stream",
     "text": [
      "there are 10 people from  from TX, DE and AK claimed insurance for driver related issues and causes\n"
     ]
    }
   ],
   "source": [
    "pri=len(cust[(cust['State'].isin(['TX','DE','AK'])) & (cust['category']=='Adult') & (cust['incident_cause']=='Driver error')])\n",
    "print(f'there are {pri} people from  from TX, DE and AK claimed insurance for driver related issues and causes')"
   ]
  },
  {
   "cell_type": "markdown",
   "metadata": {},
   "source": [
    "-11. Draw a pie chart between the aggregated value of claim amount based \n",
    "on gender and segment. Represent the claim amount as a percentage on\n",
    "the pie chart."
   ]
  },
  {
   "cell_type": "code",
   "execution_count": 19,
   "metadata": {},
   "outputs": [
    {
     "data": {
      "image/png": "[encoded data removed]",
      "text/plain": [
       "<Figure size 720x504 with 1 Axes>"
      ]
     },
     "metadata": {},
     "output_type": "display_data"
    }
   ],
   "source": [
    "pre1=cust.groupby(['gender','Segment'])['claim_amount'].sum().reset_index()\n",
    "pie_data=pre1.reset_index()\n",
    "pie_data['Percentage']=pie_data['claim_amount']/pie_data['claim_amount'].sum() * 100\n",
    "plt.figure(figsize=(10, 7))\n",
    "plt.pie(pie_data['claim_amount'], labels=pie_data.apply(lambda x: f\"{x['gender']}-{x['Segment']} ({x['Percentage']:.1f}%)\", axis=1),autopct='%1.1f%%')\n",
    "plt.title('Claim Amount Distribution by Gender and Segment')\n",
    "plt.show()"
   ]
  },
  {
   "cell_type": "markdown",
   "metadata": {},
   "source": [
    "-12. Among males and females, which gender had claimed the most for any \n",
    "type of driver related issues? E.g. This metric can be compared using a \n",
    "bar chart"
   ]
  },
  {
   "cell_type": "code",
   "execution_count": 20,
   "metadata": {},
   "outputs": [],
   "source": [
    "twelve=cust[cust['incident_cause'].isin(['Driver error','Other driver error'])]"
   ]
  },
  {
   "cell_type": "code",
   "execution_count": 21,
   "metadata": {},
   "outputs": [
    {
     "data": {
      "image/png": "[encoded data removed]",
      "text/plain": [
       "<Figure size 432x288 with 1 Axes>"
      ]
     },
     "metadata": {},
     "output_type": "display_data"
    }
   ],
   "source": [
    "tww1=twelve.groupby('gender')['claim_amount'].sum().reset_index()\n",
    "tww1.plot(kind='bar',x='gender')\n",
    "plt.ylim(500000,5000000)\n",
    "plt.xlabel('gender')\n",
    "plt.ylabel('claim amount')\n",
    "plt.show()"
   ]
  },
  {
   "cell_type": "code",
   "execution_count": 22,
   "metadata": {},
   "outputs": [],
   "source": [
    "##its clear that, Male claimed most of the driver and driver related insurance amount"
   ]
  },
  {
   "cell_type": "markdown",
   "metadata": {},
   "source": [
    "-13. Which age group had the maximum fraudulent policy claims? Visualize \n",
    "it on a bar chart.\n"
   ]
  },
  {
   "cell_type": "code",
   "execution_count": 23,
   "metadata": {},
   "outputs": [
    {
     "data": {
      "text/plain": [
       "<AxesSubplot:>"
      ]
     },
     "execution_count": 23,
     "metadata": {},
     "output_type": "execute_result"
    },
    {
     "data": {
      "image/png": "[encoded data removed]",
      "text/plain": [
       "<Figure size 432x288 with 1 Axes>"
      ]
     },
     "metadata": {},
     "output_type": "display_data"
    }
   ],
   "source": [
    "thirt=cust[cust['fraudulent']=='Yes'].category.value_counts()\n",
    "thirt.plot(kind='bar',x='category')"
   ]
  },
  {
   "cell_type": "code",
   "execution_count": 24,
   "metadata": {},
   "outputs": [],
   "source": [
    "##Adults are more in doing fraud for claiming insurance amount then rest of the age"
   ]
  },
  {
   "cell_type": "markdown",
   "metadata": {},
   "source": [
    "-14. Visualize the monthly trend of the total amount that has been claimed \n",
    "by the customers. Ensure that on the “month” axis, the month is in a \n",
    "chronological order not alphabetical order."
   ]
  },
  {
   "cell_type": "code",
   "execution_count": 25,
   "metadata": {},
   "outputs": [
    {
     "data": {
      "image/png": "[encoded data removed]",
      "text/plain": [
       "<Figure size 432x288 with 1 Axes>"
      ]
     },
     "metadata": {},
     "output_type": "display_data"
    }
   ],
   "source": [
    "fotyn=cust.groupby(pd.Grouper(key='claim_date',freq='M'))['claim_amount'].sum().reset_index()\n",
    "fotyn.plot(kind='line',x='claim_date')\n",
    "plt.show()"
   ]
  },
  {
   "cell_type": "markdown",
   "metadata": {},
   "source": [
    "-15. What is the average claim amount for gender and age categories and \n",
    "suitably represent the above using a facetted bar chart, one facet that \n",
    "represents fraudulent claims and the other for non-fraudulent claim"
   ]
  },
  {
   "cell_type": "code",
   "execution_count": 26,
   "metadata": {},
   "outputs": [],
   "source": [
    "fiftyn=cust.groupby(['gender','category','fraudulent'])['claim_amount'].mean().reset_index()"
   ]
  },
  {
   "cell_type": "code",
   "execution_count": 27,
   "metadata": {},
   "outputs": [
    {
     "data": {
      "text/plain": [
       "<matplotlib.legend.Legend at 0x2943d772748>"
      ]
     },
     "execution_count": 27,
     "metadata": {},
     "output_type": "execute_result"
    },
    {
     "data": {
      "image/png": "[encoded data removed]",
      "text/plain": [
       "<Figure size 432x216 with 2 Axes>"
      ]
     },
     "metadata": {},
     "output_type": "display_data"
    }
   ],
   "source": [
    "face=sns.FacetGrid(fiftyn, col='fraudulent')\n",
    "face.map_dataframe(sns.barplot,x='category',y='claim_amount',hue='gender',palette={'Male':'blue','Female':'Pink'})\n",
    "plt.legend()"
   ]
  },
  {
   "cell_type": "code",
   "execution_count": 28,
   "metadata": {},
   "outputs": [],
   "source": [
    "##Based on the conclusions from exploratory analysis as well as suitable \n",
    "##statistical tests, answer the below questions. Please include a detailed \n",
    "##write-up on the parameters taken into consideration, the Hypothesis \n",
    "##testing steps, conclusion from the p-values and the business implications of \n",
    "##the statements. "
   ]
  },
  {
   "cell_type": "code",
   "execution_count": 29,
   "metadata": {},
   "outputs": [],
   "source": [
    "import scipy.stats as stats"
   ]
  },
  {
   "cell_type": "code",
   "execution_count": 30,
   "metadata": {},
   "outputs": [],
   "source": [
    "##16. Is there any similarity in the amount claimed by males and females?"
   ]
  },
  {
   "cell_type": "code",
   "execution_count": 31,
   "metadata": {},
   "outputs": [
    {
     "data": {
      "text/plain": [
       "Ttest_indResult(statistic=-0.9736692358288354, pvalue=0.33045209541751097)"
      ]
     },
     "execution_count": 31,
     "metadata": {},
     "output_type": "execute_result"
    }
   ],
   "source": [
    "##H0 Both dont Men and Women claims eqaul amount of insurance money\n",
    "##H1 THey  claims eqaul amount of insurance money\n",
    "\n",
    "maleclaim=cust.loc[cust.gender=='Male','claim_amount'].dropna()\n",
    "femaleclaim=cust.loc[cust.gender=='Female','claim_amount'].dropna()\n",
    "##confidence level-95%\n",
    "##pvalue critical-5%\n",
    "\n",
    "##test kind Ttest\n",
    "stats.ttest_ind(femaleclaim,maleclaim)\n"
   ]
  },
  {
   "cell_type": "code",
   "execution_count": 32,
   "metadata": {},
   "outputs": [],
   "source": [
    "##People of both genders are'nt claiming eqaul amount of insurance money and null hypothesis is true"
   ]
  },
  {
   "cell_type": "code",
   "execution_count": 33,
   "metadata": {},
   "outputs": [],
   "source": [
    "##17. Is there any relationship between age category and segment?"
   ]
  },
  {
   "cell_type": "code",
   "execution_count": 34,
   "metadata": {},
   "outputs": [
    {
     "data": {
      "text/plain": [
       "(1.1863554746819438,\n",
       " 0.8803399505513062,\n",
       " 4,\n",
       " array([[180.42490842,  64.38827839, 131.18681319],\n",
       "        [175.14652015,  62.50457875, 127.3489011 ],\n",
       "        [168.42857143,  60.10714286, 122.46428571]]))"
      ]
     },
     "execution_count": 34,
     "metadata": {},
     "output_type": "execute_result"
    }
   ],
   "source": [
    "##H0-theres' no relationship\n",
    "##H1-theres' relationship\n",
    "##confidence level-95%\n",
    "##acceptance level -5%\n",
    "##test? chi-quared\n",
    "\n",
    "sevtyn=pd.crosstab(cust.Segment,cust.category)\n",
    "stats.chi2_contingency(sevtyn)"
   ]
  },
  {
   "cell_type": "code",
   "execution_count": 35,
   "metadata": {},
   "outputs": [],
   "source": [
    "    ##ther is no relation between segment or age category, so we failed to reject null hypothesis"
   ]
  },
  {
   "cell_type": "code",
   "execution_count": 36,
   "metadata": {},
   "outputs": [],
   "source": [
    "##18. The current year has shown a significant rise in claim amounts as \n",
    "##compared to 2016-17 fiscal average which was $10,000"
   ]
  },
  {
   "cell_type": "code",
   "execution_count": 37,
   "metadata": {},
   "outputs": [
    {
     "data": {
      "text/plain": [
       "0.0001"
      ]
     },
     "execution_count": 37,
     "metadata": {},
     "output_type": "execute_result"
    }
   ],
   "source": [
    "##assume that the current fiscal is 2017-2018\n",
    "##H0-theres' no significance rise in claim amount this year\n",
    "##H1-theres' significance rise in claim amount this year\n",
    "##confidence level-95%\n",
    "##acceptance level -5%\n",
    "Y2017=cust.loc[cust.claim_date.dt.year==2017,'claim_amount'].dropna()\n",
    "curr_year=10000\n",
    "a,p_value=stats.ttest_1samp(Y2017,curr_year)\n",
    "p_value.round(4)"
   ]
  },
  {
   "cell_type": "code",
   "execution_count": 38,
   "metadata": {},
   "outputs": [],
   "source": [
    "##we reject the null hypothesis. Theres is increase in claim amount from 2017"
   ]
  },
  {
   "cell_type": "code",
   "execution_count": 39,
   "metadata": {},
   "outputs": [],
   "source": [
    "##19. Is there any difference between age groups and insurance claims\n"
   ]
  },
  {
   "cell_type": "code",
   "execution_count": 40,
   "metadata": {},
   "outputs": [],
   "source": [
    "observe=pd.crosstab(cust.claim_type,cust.category)"
   ]
  },
  {
   "cell_type": "code",
   "execution_count": 41,
   "metadata": {},
   "outputs": [
    {
     "data": {
      "text/plain": [
       "(4.817514982086259,\n",
       " 0.30653919936022533,\n",
       " 4,\n",
       " array([[ 93.4562212 ,  33.24884793,  68.29493088],\n",
       "        [113.58525346,  40.41013825,  83.00460829],\n",
       "        [312.95852535, 111.34101382, 228.70046083]]))"
      ]
     },
     "execution_count": 41,
     "metadata": {},
     "output_type": "execute_result"
    }
   ],
   "source": [
    "## H0: there is no relationship\n",
    "## Ha: there is a relationship\n",
    "##confidence level-95%\n",
    "##acceptance level -5%\n",
    "## test? chi2 test\n",
    "\n",
    "stats.chi2_contingency(observe)"
   ]
  },
  {
   "cell_type": "code",
   "execution_count": 42,
   "metadata": {},
   "outputs": [],
   "source": [
    "##we failed to reject null hypthesis. There exists a relation between age group and insurance claims"
   ]
  },
  {
   "cell_type": "code",
   "execution_count": 43,
   "metadata": {},
   "outputs": [],
   "source": [
    "##20. Is there any relationship between total number of policy claims and the claimed amount?"
   ]
  },
  {
   "cell_type": "code",
   "execution_count": 114,
   "metadata": {},
   "outputs": [],
   "source": [
    "claim_sum=cust.groupby('claim_area')['claim_amount'].agg(['sum']).reset_index()\n",
    "claim_count=cust.groupby('claim_area')['claim_amount'].count().reset_index()\n",
    "claim_sum=claim_sum.select_dtypes('number')\n",
    "claim_count=claim_count.select_dtypes('number')"
   ]
  },
  {
   "cell_type": "code",
   "execution_count": 115,
   "metadata": {},
   "outputs": [
    {
     "data": {
      "text/plain": [
       "Ttest_indResult(statistic=array([-1.22457429]), pvalue=array([0.34539844]))"
      ]
     },
     "execution_count": 115,
     "metadata": {},
     "output_type": "execute_result"
    }
   ],
   "source": [
    "##H0- Theres' no relationship between count of policy claims and claimed amount\n",
    "##H1- Theres' relation betweeen count of policy claims and cliamed amount\n",
    "##confidence level-95%\n",
    "##acceptance level -5%\n",
    "##test kind? ttest\n",
    "stats.ttest_ind(claim_count,claim_sum)"
   ]
  },
  {
   "cell_type": "code",
   "execution_count": 118,
   "metadata": {},
   "outputs": [],
   "source": [
    "##we fail to reject null hypothesis and there is no relationship between claim amount and number of times insurace claimed"
   ]
  },
  {
   "cell_type": "code",
   "execution_count": 117,
   "metadata": {},
   "outputs": [
    {
     "data": {
      "text/html": [
       "<div>\n",
       "<style scoped>\n",
       "    .dataframe tbody tr th:only-of-type {\n",
       "        vertical-align: middle;\n",
       "    }\n",
       "\n",
       "    .dataframe tbody tr th {\n",
       "        vertical-align: top;\n",
       "    }\n",
       "\n",
       "    .dataframe thead th {\n",
       "        text-align: right;\n",
       "    }\n",
       "</style>\n",
       "<table border=\"1\" class=\"dataframe\">\n",
       "  <thead>\n",
       "    <tr style=\"text-align: right;\">\n",
       "      <th></th>\n",
       "      <th>CUST_ID</th>\n",
       "      <th>gender</th>\n",
       "      <th>DateOfBirth</th>\n",
       "      <th>State</th>\n",
       "      <th>Contact</th>\n",
       "      <th>Segment</th>\n",
       "      <th>claim_id</th>\n",
       "      <th>customer_id</th>\n",
       "      <th>incident_cause</th>\n",
       "      <th>claim_date</th>\n",
       "      <th>claim_area</th>\n",
       "      <th>police_report</th>\n",
       "      <th>claim_type</th>\n",
       "      <th>claim_amount</th>\n",
       "      <th>total_policy_claims</th>\n",
       "      <th>fraudulent</th>\n",
       "      <th>flag</th>\n",
       "    </tr>\n",
       "  </thead>\n",
       "  <tbody>\n",
       "    <tr>\n",
       "      <th>0</th>\n",
       "      <td>21868593</td>\n",
       "      <td>Female</td>\n",
       "      <td>1979-01-12</td>\n",
       "      <td>VT</td>\n",
       "      <td>7899168172</td>\n",
       "      <td>Platinum</td>\n",
       "      <td>54004764.0</td>\n",
       "      <td>21868593.0</td>\n",
       "      <td>Driver error</td>\n",
       "      <td>2017-11-27</td>\n",
       "      <td>Auto</td>\n",
       "      <td>No</td>\n",
       "      <td>Material only</td>\n",
       "      <td>2980.0</td>\n",
       "      <td>1.0</td>\n",
       "      <td>No</td>\n",
       "      <td>0.0</td>\n",
       "    </tr>\n",
       "    <tr>\n",
       "      <th>1</th>\n",
       "      <td>75740424</td>\n",
       "      <td>Female</td>\n",
       "      <td>2070-01-13</td>\n",
       "      <td>ME</td>\n",
       "      <td>2655431264</td>\n",
       "      <td>Silver</td>\n",
       "      <td>33985796.0</td>\n",
       "      <td>75740424.0</td>\n",
       "      <td>Crime</td>\n",
       "      <td>2018-10-03</td>\n",
       "      <td>Home</td>\n",
       "      <td>Unknown</td>\n",
       "      <td>Material only</td>\n",
       "      <td>2980.0</td>\n",
       "      <td>3.0</td>\n",
       "      <td>No</td>\n",
       "      <td>0.0</td>\n",
       "    </tr>\n",
       "    <tr>\n",
       "      <th>2</th>\n",
       "      <td>30308357</td>\n",
       "      <td>Female</td>\n",
       "      <td>1984-03-11</td>\n",
       "      <td>TN</td>\n",
       "      <td>7986314758</td>\n",
       "      <td>Silver</td>\n",
       "      <td>53522022.0</td>\n",
       "      <td>30308357.0</td>\n",
       "      <td>Other driver error</td>\n",
       "      <td>2018-02-02</td>\n",
       "      <td>Auto</td>\n",
       "      <td>No</td>\n",
       "      <td>Material only</td>\n",
       "      <td>3369.5</td>\n",
       "      <td>1.0</td>\n",
       "      <td>Yes</td>\n",
       "      <td>0.0</td>\n",
       "    </tr>\n",
       "    <tr>\n",
       "      <th>3</th>\n",
       "      <td>30308357</td>\n",
       "      <td>Female</td>\n",
       "      <td>1984-03-11</td>\n",
       "      <td>TN</td>\n",
       "      <td>7986314758</td>\n",
       "      <td>Silver</td>\n",
       "      <td>63017412.0</td>\n",
       "      <td>30308357.0</td>\n",
       "      <td>Driver error</td>\n",
       "      <td>2018-04-04</td>\n",
       "      <td>Auto</td>\n",
       "      <td>No</td>\n",
       "      <td>Material only</td>\n",
       "      <td>1950.0</td>\n",
       "      <td>6.0</td>\n",
       "      <td>No</td>\n",
       "      <td>0.0</td>\n",
       "    </tr>\n",
       "    <tr>\n",
       "      <th>4</th>\n",
       "      <td>47830476</td>\n",
       "      <td>Female</td>\n",
       "      <td>1986-05-01</td>\n",
       "      <td>MA</td>\n",
       "      <td>4131877945</td>\n",
       "      <td>Silver</td>\n",
       "      <td>13015401.0</td>\n",
       "      <td>47830476.0</td>\n",
       "      <td>Natural causes</td>\n",
       "      <td>2018-06-17</td>\n",
       "      <td>Auto</td>\n",
       "      <td>No</td>\n",
       "      <td>Material only</td>\n",
       "      <td>1680.0</td>\n",
       "      <td>1.0</td>\n",
       "      <td>No</td>\n",
       "      <td>0.0</td>\n",
       "    </tr>\n",
       "    <tr>\n",
       "      <th>...</th>\n",
       "      <td>...</td>\n",
       "      <td>...</td>\n",
       "      <td>...</td>\n",
       "      <td>...</td>\n",
       "      <td>...</td>\n",
       "      <td>...</td>\n",
       "      <td>...</td>\n",
       "      <td>...</td>\n",
       "      <td>...</td>\n",
       "      <td>...</td>\n",
       "      <td>...</td>\n",
       "      <td>...</td>\n",
       "      <td>...</td>\n",
       "      <td>...</td>\n",
       "      <td>...</td>\n",
       "      <td>...</td>\n",
       "      <td>...</td>\n",
       "    </tr>\n",
       "    <tr>\n",
       "      <th>1087</th>\n",
       "      <td>79539873</td>\n",
       "      <td>Female</td>\n",
       "      <td>1981-03-15</td>\n",
       "      <td>ND</td>\n",
       "      <td>4594254319</td>\n",
       "      <td>Platinum</td>\n",
       "      <td>62020796.0</td>\n",
       "      <td>79539873.0</td>\n",
       "      <td>Other driver error</td>\n",
       "      <td>2018-09-06</td>\n",
       "      <td>Auto</td>\n",
       "      <td>Yes</td>\n",
       "      <td>Material only</td>\n",
       "      <td>1770.0</td>\n",
       "      <td>1.0</td>\n",
       "      <td>No</td>\n",
       "      <td>0.0</td>\n",
       "    </tr>\n",
       "    <tr>\n",
       "      <th>1088</th>\n",
       "      <td>42364152</td>\n",
       "      <td>Female</td>\n",
       "      <td>1996-07-07</td>\n",
       "      <td>ID</td>\n",
       "      <td>5294621635</td>\n",
       "      <td>Silver</td>\n",
       "      <td>63269067.0</td>\n",
       "      <td>42364152.0</td>\n",
       "      <td>Other causes</td>\n",
       "      <td>2017-05-09</td>\n",
       "      <td>Home</td>\n",
       "      <td>No</td>\n",
       "      <td>Material only</td>\n",
       "      <td>2800.0</td>\n",
       "      <td>1.0</td>\n",
       "      <td>No</td>\n",
       "      <td>0.0</td>\n",
       "    </tr>\n",
       "    <tr>\n",
       "      <th>1089</th>\n",
       "      <td>19888166</td>\n",
       "      <td>Male</td>\n",
       "      <td>1990-04-11</td>\n",
       "      <td>WI</td>\n",
       "      <td>7126519613</td>\n",
       "      <td>Gold</td>\n",
       "      <td>22690595.0</td>\n",
       "      <td>19888166.0</td>\n",
       "      <td>Other driver error</td>\n",
       "      <td>2017-05-15</td>\n",
       "      <td>Auto</td>\n",
       "      <td>Yes</td>\n",
       "      <td>Injury only</td>\n",
       "      <td>33080.0</td>\n",
       "      <td>2.0</td>\n",
       "      <td>No</td>\n",
       "      <td>0.0</td>\n",
       "    </tr>\n",
       "    <tr>\n",
       "      <th>1090</th>\n",
       "      <td>11256802</td>\n",
       "      <td>Female</td>\n",
       "      <td>2064-10-22</td>\n",
       "      <td>LA</td>\n",
       "      <td>4693455617</td>\n",
       "      <td>Silver</td>\n",
       "      <td>12376894.0</td>\n",
       "      <td>11256802.0</td>\n",
       "      <td>Other driver error</td>\n",
       "      <td>2017-04-18</td>\n",
       "      <td>Auto</td>\n",
       "      <td>No</td>\n",
       "      <td>Material only</td>\n",
       "      <td>2840.0</td>\n",
       "      <td>4.0</td>\n",
       "      <td>No</td>\n",
       "      <td>0.0</td>\n",
       "    </tr>\n",
       "    <tr>\n",
       "      <th>1091</th>\n",
       "      <td>61575264</td>\n",
       "      <td>Male</td>\n",
       "      <td>1995-07-12</td>\n",
       "      <td>WY</td>\n",
       "      <td>1823851392</td>\n",
       "      <td>Gold</td>\n",
       "      <td>63226031.0</td>\n",
       "      <td>61575264.0</td>\n",
       "      <td>Natural causes</td>\n",
       "      <td>2017-03-16</td>\n",
       "      <td>Auto</td>\n",
       "      <td>No</td>\n",
       "      <td>Material only</td>\n",
       "      <td>1490.0</td>\n",
       "      <td>1.0</td>\n",
       "      <td>No</td>\n",
       "      <td>0.0</td>\n",
       "    </tr>\n",
       "  </tbody>\n",
       "</table>\n",
       "<p>1092 rows × 17 columns</p>\n",
       "</div>"
      ],
      "text/plain": [
       "       CUST_ID  gender DateOfBirth State     Contact   Segment    claim_id  \\\n",
       "0     21868593  Female  1979-01-12    VT  7899168172  Platinum  54004764.0   \n",
       "1     75740424  Female  2070-01-13    ME  2655431264    Silver  33985796.0   \n",
       "2     30308357  Female  1984-03-11    TN  7986314758    Silver  53522022.0   \n",
       "3     30308357  Female  1984-03-11    TN  7986314758    Silver  63017412.0   \n",
       "4     47830476  Female  1986-05-01    MA  4131877945    Silver  13015401.0   \n",
       "...        ...     ...         ...   ...         ...       ...         ...   \n",
       "1087  79539873  Female  1981-03-15    ND  4594254319  Platinum  62020796.0   \n",
       "1088  42364152  Female  1996-07-07    ID  5294621635    Silver  63269067.0   \n",
       "1089  19888166    Male  1990-04-11    WI  7126519613      Gold  22690595.0   \n",
       "1090  11256802  Female  2064-10-22    LA  4693455617    Silver  12376894.0   \n",
       "1091  61575264    Male  1995-07-12    WY  1823851392      Gold  63226031.0   \n",
       "\n",
       "     customer_id      incident_cause claim_date claim_area police_report  \\\n",
       "0     21868593.0        Driver error 2017-11-27       Auto            No   \n",
       "1     75740424.0               Crime 2018-10-03       Home       Unknown   \n",
       "2     30308357.0  Other driver error 2018-02-02       Auto            No   \n",
       "3     30308357.0        Driver error 2018-04-04       Auto            No   \n",
       "4     47830476.0      Natural causes 2018-06-17       Auto            No   \n",
       "...          ...                 ...        ...        ...           ...   \n",
       "1087  79539873.0  Other driver error 2018-09-06       Auto           Yes   \n",
       "1088  42364152.0        Other causes 2017-05-09       Home            No   \n",
       "1089  19888166.0  Other driver error 2017-05-15       Auto           Yes   \n",
       "1090  11256802.0  Other driver error 2017-04-18       Auto            No   \n",
       "1091  61575264.0      Natural causes 2017-03-16       Auto            No   \n",
       "\n",
       "         claim_type  claim_amount  total_policy_claims fraudulent  flag  \n",
       "0     Material only        2980.0                  1.0         No   0.0  \n",
       "1     Material only        2980.0                  3.0         No   0.0  \n",
       "2     Material only        3369.5                  1.0        Yes   0.0  \n",
       "3     Material only        1950.0                  6.0         No   0.0  \n",
       "4     Material only        1680.0                  1.0         No   0.0  \n",
       "...             ...           ...                  ...        ...   ...  \n",
       "1087  Material only        1770.0                  1.0         No   0.0  \n",
       "1088  Material only        2800.0                  1.0         No   0.0  \n",
       "1089    Injury only       33080.0                  2.0         No   0.0  \n",
       "1090  Material only        2840.0                  4.0         No   0.0  \n",
       "1091  Material only        1490.0                  1.0         No   0.0  \n",
       "\n",
       "[1092 rows x 17 columns]"
      ]
     },
     "execution_count": 117,
     "metadata": {},
     "output_type": "execute_result"
    }
   ],
   "source": []
  },
  {
   "cell_type": "code",
   "execution_count": null,
   "metadata": {},
   "outputs": [],
   "source": []
  }
 ],
 "metadata": {
  "kernelspec": {
   "display_name": "Python 3",
   "language": "python",
   "name": "python3"
  },
  "language_info": {
   "codemirror_mode": {
    "name": "ipython",
    "version": 3
   },
   "file_extension": ".py",
   "mimetype": "text/x-python",
   "name": "python",
   "nbconvert_exporter": "python",
   "pygments_lexer": "ipython3",
   "version": "3.6.4"
  }
 },
 "nbformat": 4,
 "nbformat_minor": 2
}
